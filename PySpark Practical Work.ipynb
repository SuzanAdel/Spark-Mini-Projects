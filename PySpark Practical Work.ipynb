{
 "cells": [
  {
   "cell_type": "markdown",
   "metadata": {
    "id": "5MrBC530gmg5"
   },
   "source": [
    "Let's start with your project: \n",
    "\n",
    "Are you a data scientist? \n",
    "\n",
    "I think you are an awesome a data scientist.\n",
    "\n",
    "### **Problem** \n",
    "**Our goal is to create a predictive model that can answer the following question:**\n",
    "\n",
    "**What kind of people had a better chance of surviving?**"
   ]
  },
  {
   "cell_type": "markdown",
   "metadata": {
    "id": "DIEH8iZqi-sk"
   },
   "source": [
    "## Install and Import Libraries\n",
    "Let's install PySpark:"
   ]
  },
  {
   "cell_type": "code",
   "execution_count": 1,
   "metadata": {
    "id": "oj1HhvIOY5Yz"
   },
   "outputs": [],
   "source": [
    "# pip install spark"
   ]
  },
  {
   "cell_type": "code",
   "execution_count": 2,
   "metadata": {
    "id": "0wz7H2XIUPh1"
   },
   "outputs": [],
   "source": [
    "# pip install findspark"
   ]
  },
  {
   "cell_type": "markdown",
   "metadata": {
    "id": "SDp80mG9jmfU"
   },
   "source": [
    "## Build Spark Session"
   ]
  },
  {
   "cell_type": "code",
   "execution_count": 3,
   "metadata": {
    "id": "ttzML9fpjE5a"
   },
   "outputs": [],
   "source": [
    "\n",
    "from pyspark.sql import SparkSession\n",
    "from pyspark.sql.functions import count\n",
    "\n",
    "spark = (SparkSession\n",
    ".builder\n",
    ".appName(\"DataFrame\")\n",
    ".getOrCreate())\n"
   ]
  },
  {
   "cell_type": "markdown",
   "metadata": {
    "id": "TiqECDzLj1Mg"
   },
   "source": [
    "## Data Loading\n"
   ]
  },
  {
   "cell_type": "markdown",
   "metadata": {
    "id": "vn-hxNggkTqV"
   },
   "source": [
    "You have two datasets: \n",
    "* Train  \n",
    "* Test."
   ]
  },
  {
   "cell_type": "markdown",
   "metadata": {
    "id": "x8-A8M7QmKDJ"
   },
   "source": [
    "Read two datasets: \n",
    "* Train\n",
    "* Test.\n",
    "\n"
   ]
  },
  {
   "cell_type": "code",
   "execution_count": 4,
   "metadata": {
    "id": "Mx2qAccBk15y"
   },
   "outputs": [],
   "source": [
    "train_df=spark.read.csv('./test.csv',inferSchema=True,header=True)\n",
    "test_df=spark.read.csv('./train.csv',inferSchema=True,header=True)"
   ]
  },
  {
   "cell_type": "markdown",
   "metadata": {
    "id": "Lj2ANTnWmSCq"
   },
   "source": [
    "Let's work with train dataset:"
   ]
  },
  {
   "cell_type": "markdown",
   "metadata": {
    "id": "b5mWJR30lNs5"
   },
   "source": [
    "**Confirm if this is a dataframe or not:**"
   ]
  },
  {
   "cell_type": "code",
   "execution_count": 5,
   "metadata": {
    "colab": {
     "base_uri": "https://localhost:8080/"
    },
    "id": "tEYTePrzk9yl",
    "outputId": "c2eacdb5-f05e-49a5-980f-02c509d580cd"
   },
   "outputs": [
    {
     "name": "stdout",
     "output_type": "stream",
     "text": [
      "<class 'pyspark.sql.dataframe.DataFrame'>\n",
      "<class 'pyspark.sql.dataframe.DataFrame'>\n"
     ]
    }
   ],
   "source": [
    "print(type(train_df))\n",
    "print(type(test_df))"
   ]
  },
  {
   "cell_type": "markdown",
   "metadata": {
    "id": "lvLJElPrlT4i"
   },
   "source": [
    "**Show 5 rows.**"
   ]
  },
  {
   "cell_type": "code",
   "execution_count": 6,
   "metadata": {
    "colab": {
     "base_uri": "https://localhost:8080/"
    },
    "id": "jYwhqvV8lnO0",
    "outputId": "f9a88ced-dbef-4529-adae-2d341846b2de"
   },
   "outputs": [
    {
     "data": {
      "text/plain": [
       "[Row(PassengerId=1, Survived=1, Pclass=1, Name='Goldenberg, Mr. Samuel L', Sex='male', Age=49.0, SibSp=1, Parch=0, Ticket='17453', Fare=89.1042, Cabin='C92', Embarked='C'),\n",
       " Row(PassengerId=2, Survived=0, Pclass=3, Name='Peduzzi, Mr. Joseph', Sex='male', Age=None, SibSp=0, Parch=0, Ticket='A/5 2817', Fare=8.05, Cabin=None, Embarked='S'),\n",
       " Row(PassengerId=3, Survived=1, Pclass=3, Name='Jalsevac, Mr. Ivan', Sex='male', Age=29.0, SibSp=0, Parch=0, Ticket='349240', Fare=7.8958, Cabin=None, Embarked='C'),\n",
       " Row(PassengerId=4, Survived=0, Pclass=1, Name='Millet, Mr. Francis Davis', Sex='male', Age=65.0, SibSp=0, Parch=0, Ticket='13509', Fare=26.55, Cabin='E38', Embarked='S'),\n",
       " Row(PassengerId=5, Survived=1, Pclass=1, Name='Kenyon, Mrs. Frederick R (Marion)', Sex='female', Age=None, SibSp=1, Parch=0, Ticket='17464', Fare=51.8625, Cabin='D21', Embarked='S')]"
      ]
     },
     "execution_count": 6,
     "metadata": {},
     "output_type": "execute_result"
    }
   ],
   "source": [
    "train_df.head(5)"
   ]
  },
  {
   "cell_type": "markdown",
   "metadata": {
    "id": "6QIYVxRXlnnw"
   },
   "source": [
    "**Display schema for the dataset:**"
   ]
  },
  {
   "cell_type": "code",
   "execution_count": 7,
   "metadata": {
    "colab": {
     "base_uri": "https://localhost:8080/"
    },
    "id": "pcvERiICl1Ep",
    "outputId": "b8d424cb-a57a-40a0-b17b-426a81437a5a"
   },
   "outputs": [
    {
     "name": "stdout",
     "output_type": "stream",
     "text": [
      "root\n",
      " |-- PassengerId: integer (nullable = true)\n",
      " |-- Survived: integer (nullable = true)\n",
      " |-- Pclass: integer (nullable = true)\n",
      " |-- Name: string (nullable = true)\n",
      " |-- Sex: string (nullable = true)\n",
      " |-- Age: double (nullable = true)\n",
      " |-- SibSp: integer (nullable = true)\n",
      " |-- Parch: integer (nullable = true)\n",
      " |-- Ticket: string (nullable = true)\n",
      " |-- Fare: double (nullable = true)\n",
      " |-- Cabin: string (nullable = true)\n",
      " |-- Embarked: string (nullable = true)\n",
      "\n"
     ]
    }
   ],
   "source": [
    "train_df.printSchema()"
   ]
  },
  {
   "cell_type": "markdown",
   "metadata": {
    "id": "xmE3Wd80l1S6"
   },
   "source": [
    "**Statistical summary:**"
   ]
  },
  {
   "cell_type": "code",
   "execution_count": 8,
   "metadata": {
    "colab": {
     "base_uri": "https://localhost:8080/"
    },
    "id": "cNY0SItol5Mo",
    "outputId": "c4f3e75c-49f3-485c-ea9d-c91417f0cc9a"
   },
   "outputs": [
    {
     "data": {
      "text/plain": [
       "DataFrame[summary: string, PassengerId: string, Survived: string, Pclass: string, Name: string, Sex: string, Age: string, SibSp: string, Parch: string, Ticket: string, Fare: string, Cabin: string, Embarked: string]"
      ]
     },
     "execution_count": 8,
     "metadata": {},
     "output_type": "execute_result"
    }
   ],
   "source": [
    "train_df.summary()"
   ]
  },
  {
   "cell_type": "markdown",
   "metadata": {
    "id": "HiFaIEQTl70_"
   },
   "source": [
    "## EDA - Exploratory Data Analysis"
   ]
  },
  {
   "cell_type": "markdown",
   "metadata": {
    "id": "PSNPOnP8mw2Q"
   },
   "source": [
    "**Display count for the train dataset:**"
   ]
  },
  {
   "cell_type": "code",
   "execution_count": 9,
   "metadata": {
    "colab": {
     "base_uri": "https://localhost:8080/"
    },
    "id": "zrtpG11Fl9HM",
    "outputId": "a2dcf89e-31b9-4253-afe0-871a36056311"
   },
   "outputs": [
    {
     "name": "stdout",
     "output_type": "stream",
     "text": [
      "438\n"
     ]
    }
   ],
   "source": [
    "print(train_df.count())"
   ]
  },
  {
   "cell_type": "markdown",
   "metadata": {
    "id": "t_6nnTfxm9_x"
   },
   "source": [
    "**Can you answer this question:** \n",
    "\n",
    "**How many people survived, and how many didn't survive?** \n",
    "\n",
    "**Please save data in a variable.**"
   ]
  },
  {
   "cell_type": "code",
   "execution_count": 10,
   "metadata": {
    "id": "QDoqPwyomYxA"
   },
   "outputs": [],
   "source": [
    "survived =  train_df.filter('Survived == 1').count()\n",
    "not_survived =  train_df.filter('Survived == 0').count()"
   ]
  },
  {
   "cell_type": "markdown",
   "metadata": {
    "id": "P8DUtZXPn46m"
   },
   "source": [
    "**Display your result:**"
   ]
  },
  {
   "cell_type": "code",
   "execution_count": 11,
   "metadata": {
    "colab": {
     "base_uri": "https://localhost:8080/"
    },
    "id": "0XHAK8ceoCMU",
    "outputId": "7028c64c-2fad-426f-eb99-d362ee255dd8"
   },
   "outputs": [
    {
     "name": "stdout",
     "output_type": "stream",
     "text": [
      "163 person survived \n",
      "275 person didnot survive \n"
     ]
    }
   ],
   "source": [
    "print(survived,\"person survived \")\n",
    "print(not_survived,\"person didnot survive \")"
   ]
  },
  {
   "cell_type": "markdown",
   "metadata": {
    "id": "Ygsg7wQqor9a"
   },
   "source": [
    "**Can you display your answer in ratio form?(Hint: Use UDF.)**\n",
    "\n"
   ]
  },
  {
   "cell_type": "code",
   "execution_count": 12,
   "metadata": {
    "id": "3uiaN29PoQnf"
   },
   "outputs": [],
   "source": [
    "\n",
    "def ratio_form(num):\n",
    "    return num / float(train_df.count())\n"
   ]
  },
  {
   "cell_type": "code",
   "execution_count": 13,
   "metadata": {
    "id": "f9ThgKABTncO"
   },
   "outputs": [],
   "source": [
    "df1 = train_df.groupby('Survived').count()"
   ]
  },
  {
   "cell_type": "code",
   "execution_count": 14,
   "metadata": {
    "colab": {
     "base_uri": "https://localhost:8080/"
    },
    "id": "0-Zcq3KaTncO",
    "outputId": "953c4ead-cc58-42f4-b684-c8c147bff0bd"
   },
   "outputs": [
    {
     "name": "stdout",
     "output_type": "stream",
     "text": [
      "+--------+-----+\n",
      "|Survived|count|\n",
      "+--------+-----+\n",
      "|       1|  163|\n",
      "|       0|  275|\n",
      "+--------+-----+\n",
      "\n"
     ]
    }
   ],
   "source": [
    "df1.show()"
   ]
  },
  {
   "cell_type": "code",
   "execution_count": 15,
   "metadata": {
    "colab": {
     "base_uri": "https://localhost:8080/"
    },
    "id": "PvzEwesgoQ3s",
    "outputId": "1630d59c-1456-433f-d6de-79444b86108f"
   },
   "outputs": [
    {
     "name": "stdout",
     "output_type": "stream",
     "text": [
      "survived ratio 0.3721461187214612\n",
      "not survived ratio 0.6278538812785388\n"
     ]
    }
   ],
   "source": [
    "print(\"survived ratio\",ratio_form(survived) )\n",
    "print(\"not survived ratio\",ratio_form(not_survived) )"
   ]
  },
  {
   "cell_type": "markdown",
   "metadata": {
    "id": "Q7Aker_lp1h4"
   },
   "source": [
    "**Can you get the number of males and females?**\n"
   ]
  },
  {
   "cell_type": "code",
   "execution_count": 16,
   "metadata": {
    "colab": {
     "base_uri": "https://localhost:8080/"
    },
    "id": "oknIIYwPTncP",
    "outputId": "9f420a4f-4d52-4b9f-c049-34fd65dce4a7"
   },
   "outputs": [
    {
     "data": {
      "text/plain": [
       "Row(PassengerId=1, Survived=1, Pclass=1, Name='Goldenberg, Mr. Samuel L', Sex='male', Age=49.0, SibSp=1, Parch=0, Ticket='17453', Fare=89.1042, Cabin='C92', Embarked='C')"
      ]
     },
     "execution_count": 16,
     "metadata": {},
     "output_type": "execute_result"
    }
   ],
   "source": [
    "train_df.head()"
   ]
  },
  {
   "cell_type": "code",
   "execution_count": 17,
   "metadata": {
    "colab": {
     "base_uri": "https://localhost:8080/"
    },
    "id": "XllkDlo3ongJ",
    "outputId": "ad7e6702-ba94-49be-f5c8-57d7f1b3361a"
   },
   "outputs": [
    {
     "name": "stdout",
     "output_type": "stream",
     "text": [
      "+------+-----+\n",
      "|   Sex|count|\n",
      "+------+-----+\n",
      "|female|  141|\n",
      "|  male|  297|\n",
      "+------+-----+\n",
      "\n"
     ]
    }
   ],
   "source": [
    "df2 = train_df.groupby('Sex').count()\n",
    "df2.show()"
   ]
  },
  {
   "cell_type": "markdown",
   "metadata": {
    "id": "YHFaJ15zqtEV"
   },
   "source": [
    "**1. What is the average number of survivors of each gender?**\n",
    "\n",
    "**2. What is the number of survivors of each gender?**\n",
    "\n",
    "(Hint: Group by the \"sex\" column.)"
   ]
  },
  {
   "cell_type": "code",
   "execution_count": 18,
   "metadata": {
    "colab": {
     "base_uri": "https://localhost:8080/"
    },
    "id": "NUikH7MUqdKq",
    "outputId": "63c49146-6df6-402a-f930-c456836faa44"
   },
   "outputs": [
    {
     "name": "stdout",
     "output_type": "stream",
     "text": [
      "+------+-------------------+\n",
      "|   Sex|      avg(Survived)|\n",
      "+------+-------------------+\n",
      "|female| 0.7304964539007093|\n",
      "|  male|0.20202020202020202|\n",
      "+------+-------------------+\n",
      "\n"
     ]
    }
   ],
   "source": [
    "train_df.groupby('Sex').avg('Survived').show()"
   ]
  },
  {
   "cell_type": "code",
   "execution_count": 19,
   "metadata": {
    "colab": {
     "base_uri": "https://localhost:8080/"
    },
    "id": "XXfxhqnqTncR",
    "outputId": "c4c6be15-55e7-4144-c5a6-da397d27ed8a"
   },
   "outputs": [
    {
     "data": {
      "text/plain": [
       "Row(PassengerId=1, Survived=1, Pclass=1, Name='Goldenberg, Mr. Samuel L', Sex='male', Age=49.0, SibSp=1, Parch=0, Ticket='17453', Fare=89.1042, Cabin='C92', Embarked='C')"
      ]
     },
     "execution_count": 19,
     "metadata": {},
     "output_type": "execute_result"
    }
   ],
   "source": [
    "train_df.head()"
   ]
  },
  {
   "cell_type": "markdown",
   "metadata": {
    "id": "kCEdYNdArtRN"
   },
   "source": [
    "**Create temporary view PySpark:**"
   ]
  },
  {
   "cell_type": "code",
   "execution_count": 20,
   "metadata": {
    "colab": {
     "base_uri": "https://localhost:8080/"
    },
    "id": "YjlK6HDUqsI5",
    "outputId": "f606b9f0-925c-495f-ddd0-2e31c4ff350d"
   },
   "outputs": [
    {
     "name": "stdout",
     "output_type": "stream",
     "text": [
      "+-----------+--------+------+--------------------+------+----+-----+-----+--------+-------+-----+--------+\n",
      "|PassengerId|Survived|Pclass|                Name|   Sex| Age|SibSp|Parch|  Ticket|   Fare|Cabin|Embarked|\n",
      "+-----------+--------+------+--------------------+------+----+-----+-----+--------+-------+-----+--------+\n",
      "|          1|       1|     1|Goldenberg, Mr. S...|  male|49.0|    1|    0|   17453|89.1042|  C92|       C|\n",
      "|          2|       0|     3| Peduzzi, Mr. Joseph|  male|null|    0|    0|A/5 2817|   8.05| null|       S|\n",
      "|          3|       1|     3|  Jalsevac, Mr. Ivan|  male|29.0|    0|    0|  349240| 7.8958| null|       C|\n",
      "|          4|       0|     1|Millet, Mr. Franc...|  male|65.0|    0|    0|   13509|  26.55|  E38|       S|\n",
      "|          5|       1|     1|Kenyon, Mrs. Fred...|female|null|    1|    0|   17464|51.8625|  D21|       S|\n",
      "+-----------+--------+------+--------------------+------+----+-----+-----+--------+-------+-----+--------+\n",
      "only showing top 5 rows\n",
      "\n"
     ]
    }
   ],
   "source": [
    "train_df.createOrReplaceTempView('DF_view')\n",
    "spark.sql('SELECT PassengerId, Survived, Pclass, Name,Sex, Age,SibSp,Parch,Ticket,Fare,Cabin,Embarked FROM DF_view').show(5)"
   ]
  },
  {
   "cell_type": "markdown",
   "metadata": {
    "id": "JXNePifnshHr"
   },
   "source": [
    "**How many people survived, and how many didn't survive? By SQL:**"
   ]
  },
  {
   "cell_type": "code",
   "execution_count": 21,
   "metadata": {
    "colab": {
     "base_uri": "https://localhost:8080/"
    },
    "id": "0HxfPRTMslqk",
    "outputId": "82cfb4df-9a46-4e06-d325-88f731da05d8"
   },
   "outputs": [
    {
     "name": "stdout",
     "output_type": "stream",
     "text": [
      "+--------+---------------+\n",
      "|Survived|count(Survived)|\n",
      "+--------+---------------+\n",
      "|       1|            163|\n",
      "|       0|            275|\n",
      "+--------+---------------+\n",
      "\n"
     ]
    }
   ],
   "source": [
    "spark.sql(\"\"\"SELECT Survived,COUNT(Survived) \n",
    "          FROM DF_view \n",
    "          GROUP BY Survived\n",
    "          \"\"\").show()\n",
    "\n"
   ]
  },
  {
   "cell_type": "markdown",
   "metadata": {
    "id": "sVCdY6EasFWV"
   },
   "source": [
    "**Can you display the number of survivors from each gender as a ratio?**\n",
    "\n",
    "(Hint: Group by \"sex\" column.)\n",
    "\n",
    "**Can you do this via SQL?**"
   ]
  },
  {
   "cell_type": "code",
   "execution_count": 22,
   "metadata": {
    "colab": {
     "base_uri": "https://localhost:8080/"
    },
    "id": "7xQc3pUUr3HF",
    "outputId": "50f7c527-0e02-4837-be98-c707fd17c004"
   },
   "outputs": [
    {
     "name": "stdout",
     "output_type": "stream",
     "text": [
      "+------+-------------------+\n",
      "|   Sex|              ratio|\n",
      "+------+-------------------+\n",
      "|female| 0.7304964539007093|\n",
      "|  male|0.20202020202020202|\n",
      "+------+-------------------+\n",
      "\n"
     ]
    }
   ],
   "source": [
    "spark.sql(\"\"\"SELECT Sex ,SUM(case when Survived =1 then 1 else 0 end) / count(*) as ratio\n",
    "          FROM DF_view \n",
    "          GROUP BY Sex\n",
    "          \"\"\").show()\n",
    "\n"
   ]
  },
  {
   "cell_type": "markdown",
   "metadata": {
    "id": "j6QXc5V8uu3Y"
   },
   "source": [
    "**Display a ratio for p-class:**\n"
   ]
  },
  {
   "cell_type": "code",
   "execution_count": 23,
   "metadata": {
    "colab": {
     "base_uri": "https://localhost:8080/"
    },
    "id": "Mscs2mDFdFsD",
    "outputId": "1e8ab03d-4e76-4902-ade2-4a55765915dd"
   },
   "outputs": [
    {
     "name": "stdout",
     "output_type": "stream",
     "text": [
      "+------+------------------+\n",
      "|Pclass|             RATIO|\n",
      "+------+------------------+\n",
      "|     1|0.2602739726027397|\n",
      "|     3|  0.54337899543379|\n",
      "|     2|0.1963470319634703|\n",
      "+------+------------------+\n",
      "\n"
     ]
    }
   ],
   "source": [
    "\n",
    "spark.sql(\"\"\"SELECT Pclass ,count (Pclass) / (select count (*) from DF_view ) as RATIO from DF_view group by Pclass\n",
    "          \"\"\").show()\n",
    "\n"
   ]
  },
  {
   "cell_type": "markdown",
   "metadata": {
    "id": "EX0klxwAvg6J"
   },
   "source": [
    "**Let's take a break and continue after this.**"
   ]
  },
  {
   "cell_type": "markdown",
   "metadata": {
    "id": "_ctM9t8atxJl"
   },
   "source": [
    "## Data Cleaning"
   ]
  },
  {
   "cell_type": "markdown",
   "metadata": {
    "id": "7CfanZTCt6Wk"
   },
   "source": [
    "**First and foremost, we must merge both the train and test datasets. (Hint: The union function can do this.)**\n",
    "\n"
   ]
  },
  {
   "cell_type": "code",
   "execution_count": 24,
   "metadata": {
    "id": "8Nm8S1K0r4uY"
   },
   "outputs": [],
   "source": [
    "total_df = train_df.union(test_df)"
   ]
  },
  {
   "cell_type": "code",
   "execution_count": null,
   "metadata": {
    "id": "8oQcpssxTncU"
   },
   "outputs": [],
   "source": []
  },
  {
   "cell_type": "markdown",
   "metadata": {
    "id": "jI7AD8FLz3iO"
   },
   "source": [
    "**Display count:**"
   ]
  },
  {
   "cell_type": "code",
   "execution_count": 25,
   "metadata": {
    "colab": {
     "base_uri": "https://localhost:8080/"
    },
    "id": "I4rd9e6nzzr5",
    "outputId": "a1e0d1d1-8fdd-4e44-8366-a260620ee7e8"
   },
   "outputs": [
    {
     "data": {
      "text/plain": [
       "1329"
      ]
     },
     "execution_count": 25,
     "metadata": {},
     "output_type": "execute_result"
    }
   ],
   "source": [
    "total_df.count()"
   ]
  },
  {
   "cell_type": "markdown",
   "metadata": {
    "id": "lVQlr9vDy7Y4"
   },
   "source": [
    "**Temporary view PySpark:**"
   ]
  },
  {
   "cell_type": "code",
   "execution_count": 26,
   "metadata": {
    "colab": {
     "base_uri": "https://localhost:8080/"
    },
    "id": "s_WERAL8wvJa",
    "outputId": "8c677ca1-2941-4d5a-e1eb-9c87beac224d"
   },
   "outputs": [
    {
     "name": "stdout",
     "output_type": "stream",
     "text": [
      "+-----------+--------+------+--------------------+------+----+-----+-----+--------+-------+-----+--------+\n",
      "|PassengerId|Survived|Pclass|                Name|   Sex| Age|SibSp|Parch|  Ticket|   Fare|Cabin|Embarked|\n",
      "+-----------+--------+------+--------------------+------+----+-----+-----+--------+-------+-----+--------+\n",
      "|          1|       1|     1|Goldenberg, Mr. S...|  male|49.0|    1|    0|   17453|89.1042|  C92|       C|\n",
      "|          2|       0|     3| Peduzzi, Mr. Joseph|  male|null|    0|    0|A/5 2817|   8.05| null|       S|\n",
      "|          3|       1|     3|  Jalsevac, Mr. Ivan|  male|29.0|    0|    0|  349240| 7.8958| null|       C|\n",
      "|          4|       0|     1|Millet, Mr. Franc...|  male|65.0|    0|    0|   13509|  26.55|  E38|       S|\n",
      "|          5|       1|     1|Kenyon, Mrs. Fred...|female|null|    1|    0|   17464|51.8625|  D21|       S|\n",
      "+-----------+--------+------+--------------------+------+----+-----+-----+--------+-------+-----+--------+\n",
      "only showing top 5 rows\n",
      "\n"
     ]
    }
   ],
   "source": [
    "total_df.createOrReplaceTempView('total_view')\n",
    "spark.sql('SELECT PassengerId, Survived, Pclass, Name,Sex, Age,SibSp,Parch,Ticket,Fare,Cabin,Embarked FROM DF_view').show(5)"
   ]
  },
  {
   "cell_type": "markdown",
   "metadata": {
    "id": "5R4Miuy0z_uP"
   },
   "source": [
    "**Can you define the number of null values in each column?**\n"
   ]
  },
  {
   "cell_type": "code",
   "execution_count": 27,
   "metadata": {
    "colab": {
     "base_uri": "https://localhost:8080/"
    },
    "id": "0LMOalKBxhpD",
    "outputId": "5d995bf5-916c-4135-9b46-c02a07f52b02"
   },
   "outputs": [
    {
     "name": "stdout",
     "output_type": "stream",
     "text": [
      "+-----------+--------+------+----+---+---+-----+-----+------+----+-----+--------+\n",
      "|PassengerId|Survived|Pclass|Name|Sex|Age|SibSp|Parch|Ticket|Fare|Cabin|Embarked|\n",
      "+-----------+--------+------+----+---+---+-----+-----+------+----+-----+--------+\n",
      "|          0|       0|     0|   0|  0|265|    0|    0|     0|   0| 1021|       3|\n",
      "+-----------+--------+------+----+---+---+-----+-----+------+----+-----+--------+\n",
      "\n"
     ]
    }
   ],
   "source": [
    "from pyspark.sql.functions import isnan, when, count, col,mean\n",
    "\n",
    "total_df.select([count(when(isnan(c) |col(c).isNull(), c)).alias(c) for c in total_df.columns]).show()"
   ]
  },
  {
   "cell_type": "markdown",
   "metadata": {
    "id": "tBX8cJ000aqe"
   },
   "source": [
    "**Create Dataframe for null values**\n",
    "\n",
    "1. Column\n",
    "2. Number of missing values."
   ]
  },
  {
   "cell_type": "code",
   "execution_count": 28,
   "metadata": {
    "id": "ITmyUelNxjJM"
   },
   "outputs": [],
   "source": [
    "missing_df = total_df.select([count(when(isnan(c) |col(c).isNull(), c)).alias(c) for c in total_df.columns])"
   ]
  },
  {
   "cell_type": "markdown",
   "metadata": {
    "id": "cuKrOi5a0-Ma"
   },
   "source": [
    "## Preprocessing "
   ]
  },
  {
   "cell_type": "markdown",
   "metadata": {
    "id": "Txa8NZIO1JaP"
   },
   "source": [
    "**Can you show me the name column from your temporary table?**"
   ]
  },
  {
   "cell_type": "code",
   "execution_count": 29,
   "metadata": {
    "colab": {
     "base_uri": "https://localhost:8080/"
    },
    "id": "m7yXqJoJy35k",
    "outputId": "e0722a14-d676-4b38-fb24-68d35ee2597a"
   },
   "outputs": [
    {
     "name": "stdout",
     "output_type": "stream",
     "text": [
      "['PassengerId', 'Survived', 'Pclass', 'Name', 'Sex', 'Age', 'SibSp', 'Parch', 'Ticket', 'Fare', 'Cabin', 'Embarked']\n"
     ]
    }
   ],
   "source": [
    "print(total_df.columns)"
   ]
  },
  {
   "cell_type": "markdown",
   "metadata": {
    "id": "3F0F9cTZ2Cuz"
   },
   "source": [
    "**Run this code:**"
   ]
  },
  {
   "cell_type": "code",
   "execution_count": 30,
   "metadata": {
    "id": "0kx6OcB-2BBT"
   },
   "outputs": [],
   "source": [
    "from pyspark.sql import functions as F\n",
    "\n",
    "combined = total_df.withColumn('Title',F.regexp_extract(F.col(\"Name\"),\"([A-Za-z]+)\\.\",1))\n",
    "combined.createOrReplaceTempView('combined')"
   ]
  },
  {
   "cell_type": "markdown",
   "metadata": {
    "id": "xbZeUWS12r59"
   },
   "source": [
    "**Display the title and count \"Title\" column:**"
   ]
  },
  {
   "cell_type": "code",
   "execution_count": 31,
   "metadata": {
    "colab": {
     "base_uri": "https://localhost:8080/"
    },
    "id": "hGkFMtlp1FAI",
    "outputId": "d3bb2fed-293d-41c7-c2f6-f870b46c454c"
   },
   "outputs": [
    {
     "name": "stdout",
     "output_type": "stream",
     "text": [
      "+--------+------------+\n",
      "|   Title|count(Title)|\n",
      "+--------+------------+\n",
      "|     Don|           1|\n",
      "|    Miss|         257|\n",
      "|Countess|           2|\n",
      "|     Col|           4|\n",
      "|    Lady|           2|\n",
      "|     Rev|           9|\n",
      "|  Master|          56|\n",
      "|    Capt|           2|\n",
      "|     Mme|           1|\n",
      "|      Mr|         786|\n",
      "|      Dr|          11|\n",
      "|     Mrs|         186|\n",
      "|     Sir|           2|\n",
      "|Jonkheer|           2|\n",
      "|    Mlle|           4|\n",
      "|   Major|           3|\n",
      "|      Ms|           1|\n",
      "+--------+------------+\n",
      "\n"
     ]
    }
   ],
   "source": [
    "\n",
    "spark.sql(\"\"\"SELECT Title,COUNT(Title) \n",
    "          FROM combined \n",
    "          GROUP BY Title\n",
    "          \"\"\").show()\n"
   ]
  },
  {
   "cell_type": "markdown",
   "metadata": {
    "id": "nLBQDKYu4JOa"
   },
   "source": [
    "**We can see that Dr, Rev, Major, Col, Mlle, Capt, Don, Jonkheer, Countess, Ms, Sir, Lady, and Mme are really rare titles, so create Dictionary and set the value to \"rare\".**"
   ]
  },
  {
   "cell_type": "code",
   "execution_count": 32,
   "metadata": {
    "id": "rjnx5l5r2Qaf"
   },
   "outputs": [],
   "source": [
    "rare = {'Dr':'rare', 'Rev':'rare', 'Major':'rare', 'Col':'rare', 'Mlle':'rare', 'Capt':'rare', 'Don':'rare', 'Jonkheer':'rare', 'Countess':'rare', 'Ms':'rare', 'Sir':'rare', 'Lady':'rare',  'Mme':'rare','Miss':'Miss','Master':'Master','Mr':'Mr','Mrs':'Mrs'}"
   ]
  },
  {
   "cell_type": "markdown",
   "metadata": {
    "id": "9wrE95Cv7Oqh"
   },
   "source": [
    "**Run the function:**"
   ]
  },
  {
   "cell_type": "code",
   "execution_count": 33,
   "metadata": {
    "id": "HdDbWuDl7Pf4"
   },
   "outputs": [],
   "source": [
    "def impute_title(title):\n",
    "    return rare[title]"
   ]
  },
  {
   "cell_type": "markdown",
   "metadata": {
    "id": "f5EQVIhK7a9R"
   },
   "source": [
    "**Apply the function on \"Title\" column using UDF:**"
   ]
  },
  {
   "cell_type": "code",
   "execution_count": 34,
   "metadata": {
    "id": "rBAiIOn77XFa"
   },
   "outputs": [],
   "source": [
    "from pyspark.sql.functions import udf\n",
    "\n",
    "convertUDF = udf(lambda z: impute_title(z))\n",
    "combined = combined.withColumn(\"Title\", convertUDF(F.col(\"Title\")))"
   ]
  },
  {
   "cell_type": "code",
   "execution_count": 35,
   "metadata": {
    "id": "xzCLtLx6W3Rm"
   },
   "outputs": [],
   "source": [
    "combined.createOrReplaceTempView('combined')"
   ]
  },
  {
   "cell_type": "markdown",
   "metadata": {
    "id": "sn8ewllf7kiV"
   },
   "source": [
    "**Display \"Title\" from table and group by \"Title\" column:**"
   ]
  },
  {
   "cell_type": "code",
   "execution_count": 36,
   "metadata": {
    "colab": {
     "base_uri": "https://localhost:8080/"
    },
    "id": "J9sjQb084GU6",
    "outputId": "f00b56fd-6c50-4e01-9fc8-9d7b5f42db2d"
   },
   "outputs": [
    {
     "name": "stdout",
     "output_type": "stream",
     "text": [
      "+------+------------+\n",
      "| Title|count(Title)|\n",
      "+------+------------+\n",
      "|  rare|          44|\n",
      "|  Miss|         257|\n",
      "|Master|          56|\n",
      "|    Mr|         786|\n",
      "|   Mrs|         186|\n",
      "+------+------------+\n",
      "\n"
     ]
    }
   ],
   "source": [
    "spark.sql(\"\"\"SELECT Title,COUNT(Title) \n",
    "          FROM combined \n",
    "          GROUP BY Title\n",
    "          \"\"\").show()\n",
    "\n"
   ]
  },
  {
   "cell_type": "markdown",
   "metadata": {
    "id": "-H45QNLj9vJp"
   },
   "source": [
    "## **Preprocessing Age**"
   ]
  },
  {
   "cell_type": "markdown",
   "metadata": {
    "id": "XwRAhumK-u__"
   },
   "source": [
    "**Based on the age mean, you will fill in the missing age values:**"
   ]
  },
  {
   "cell_type": "code",
   "execution_count": 37,
   "metadata": {
    "colab": {
     "base_uri": "https://localhost:8080/"
    },
    "id": "eXYSVzvl4z63",
    "outputId": "745f5163-6804-4946-ba1c-1bc542456743"
   },
   "outputs": [
    {
     "data": {
      "text/plain": [
       "30.079501879699244"
      ]
     },
     "execution_count": 37,
     "metadata": {},
     "output_type": "execute_result"
    }
   ],
   "source": [
    "mean_of_age= total_df.select(mean('Age')).collect()[0][0]\n",
    "mean_of_age"
   ]
  },
  {
   "cell_type": "markdown",
   "metadata": {
    "id": "JLPivde8_GI-"
   },
   "source": [
    "**Fill missing age with age mean:**"
   ]
  },
  {
   "cell_type": "code",
   "execution_count": 38,
   "metadata": {
    "colab": {
     "base_uri": "https://localhost:8080/"
    },
    "id": "lBgW8aFD90PA",
    "outputId": "f622cc16-fe6d-47e0-f7cc-053dbbd75515"
   },
   "outputs": [
    {
     "data": {
      "text/plain": [
       "DataFrame[PassengerId: int, Survived: int, Pclass: int, Name: string, Sex: string, Age: double, SibSp: int, Parch: int, Ticket: string, Fare: double, Cabin: string, Embarked: string]"
      ]
     },
     "execution_count": 38,
     "metadata": {},
     "output_type": "execute_result"
    }
   ],
   "source": [
    "total_df.fillna(mean_of_age, subset= ['Age'])"
   ]
  },
  {
   "cell_type": "markdown",
   "metadata": {
    "id": "jGsnUz-m_P95"
   },
   "source": [
    "## **Preprocessing Embarked**"
   ]
  },
  {
   "cell_type": "markdown",
   "metadata": {
    "id": "iHbbamcXMSYP"
   },
   "source": [
    "**Select Embarked, count them, order by count Desc, and save in grouped_Embarked variable:**\n",
    "\n",
    "\n"
   ]
  },
  {
   "cell_type": "code",
   "execution_count": 39,
   "metadata": {
    "id": "v-lRu5vc_FW7"
   },
   "outputs": [],
   "source": [
    "grouped_Embarked= total_df.select('Embarked').groupBy('Embarked').agg(count('Embarked').alias('group_of_Embarked')).orderBy('group_of_Embarked', ascending= False)"
   ]
  },
  {
   "cell_type": "markdown",
   "metadata": {
    "id": "E1qf5u2IOQrx"
   },
   "source": [
    "**Show groupped_Embarked:**"
   ]
  },
  {
   "cell_type": "code",
   "execution_count": 40,
   "metadata": {
    "colab": {
     "base_uri": "https://localhost:8080/"
    },
    "id": "jSFNDTNg_erb",
    "outputId": "0f5c654c-a407-4686-8468-201a11e51a6d"
   },
   "outputs": [
    {
     "name": "stdout",
     "output_type": "stream",
     "text": [
      "+--------+-----------------+\n",
      "|Embarked|group_of_Embarked|\n",
      "+--------+-----------------+\n",
      "|       S|              962|\n",
      "|       C|              253|\n",
      "|       Q|              111|\n",
      "|    null|                0|\n",
      "+--------+-----------------+\n",
      "\n"
     ]
    }
   ],
   "source": [
    "spark.sql(\"\"\" SELECT Embarked, count(Embarked) AS group_of_Embarked\n",
    "FROM combined\n",
    "GROUP BY Embarked\n",
    "ORDER BY group_of_Embarked DESC\n",
    " \"\"\").show()"
   ]
  },
  {
   "cell_type": "markdown",
   "metadata": {
    "id": "mzQWYgKBMrbp"
   },
   "source": [
    "**Get the groupped_Embarked:** "
   ]
  },
  {
   "cell_type": "code",
   "execution_count": 41,
   "metadata": {
    "colab": {
     "base_uri": "https://localhost:8080/"
    },
    "id": "VfWxNOUJTnck",
    "outputId": "30552a4a-91bd-4c27-f802-616a340a121b"
   },
   "outputs": [
    {
     "name": "stdout",
     "output_type": "stream",
     "text": [
      "+--------+-----------------+\n",
      "|Embarked|group_of_Embarked|\n",
      "+--------+-----------------+\n",
      "|       S|              962|\n",
      "+--------+-----------------+\n",
      "only showing top 1 row\n",
      "\n"
     ]
    }
   ],
   "source": [
    "grouped_Embarked.show(1)"
   ]
  },
  {
   "cell_type": "markdown",
   "metadata": {
    "id": "L8vhoEs8N2w_"
   },
   "source": [
    "**Fill missing values with Top 'S' of grouped_Embarked:**"
   ]
  },
  {
   "cell_type": "code",
   "execution_count": 42,
   "metadata": {
    "colab": {
     "base_uri": "https://localhost:8080/"
    },
    "id": "LdzQCRud_mAa",
    "outputId": "94df6f5d-a0bf-47b9-ef06-af69e5c1992b"
   },
   "outputs": [
    {
     "name": "stdout",
     "output_type": "stream",
     "text": [
      "+--------+-----------------+\n",
      "|Embarked|group_of_Embarked|\n",
      "+--------+-----------------+\n",
      "|       S|              962|\n",
      "|       C|              253|\n",
      "|       Q|              111|\n",
      "|       S|                0|\n",
      "+--------+-----------------+\n",
      "\n"
     ]
    }
   ],
   "source": [
    "grouped_Embarked.fillna(value= 'S', subset= 'Embarked').show()"
   ]
  },
  {
   "cell_type": "markdown",
   "metadata": {
    "id": "TEcdV5Vb_qR_"
   },
   "source": [
    "## **Preprocessing Cabin**"
   ]
  },
  {
   "cell_type": "markdown",
   "metadata": {
    "id": "_BQzPs7tqhpA"
   },
   "source": [
    "**Replace \"cabin\" column with first char from the string:**\n",
    "\n"
   ]
  },
  {
   "cell_type": "code",
   "execution_count": 43,
   "metadata": {
    "id": "b9heQ8rIa4Pj"
   },
   "outputs": [],
   "source": [
    "import numpy"
   ]
  },
  {
   "cell_type": "code",
   "execution_count": null,
   "metadata": {
    "id": "_s47qrqIbQLS"
   },
   "outputs": [],
   "source": []
  },
  {
   "cell_type": "code",
   "execution_count": 44,
   "metadata": {
    "id": "4b6L5pK0_nQz"
   },
   "outputs": [],
   "source": [
    "def convertCabin(x):\n",
    "  if not x:\n",
    "    return x\n",
    "  return x[0]\n",
    "# total_df = total_df.dropna(subset='cabin')\n",
    "convertCabinUDF = udf(lambda z: convertCabin(z))\n",
    "total_df=total_df.withColumn(\"cabin\", convertCabinUDF(F.col(\"cabin\")))\n",
    "\n",
    "# total_df.cabin.map(lambda x: convertCabin(x)).show()"
   ]
  },
  {
   "cell_type": "markdown",
   "metadata": {
    "id": "6H8XshnYj4k2"
   },
   "source": [
    "**Show the result:**"
   ]
  },
  {
   "cell_type": "code",
   "execution_count": 45,
   "metadata": {
    "colab": {
     "base_uri": "https://localhost:8080/"
    },
    "id": "gJUQwnG1Oj2U",
    "outputId": "da4b8b41-315d-4297-b7a5-b5e6e50f795a"
   },
   "outputs": [
    {
     "name": "stdout",
     "output_type": "stream",
     "text": [
      "+-----------+--------+------+--------------------+------+----+-----+-----+------------------+-------+-----+--------+\n",
      "|PassengerId|Survived|Pclass|                Name|   Sex| Age|SibSp|Parch|            Ticket|   Fare|cabin|Embarked|\n",
      "+-----------+--------+------+--------------------+------+----+-----+-----+------------------+-------+-----+--------+\n",
      "|          1|       1|     1|Goldenberg, Mr. S...|  male|49.0|    1|    0|             17453|89.1042|    C|       C|\n",
      "|          2|       0|     3| Peduzzi, Mr. Joseph|  male|null|    0|    0|          A/5 2817|   8.05| null|       S|\n",
      "|          3|       1|     3|  Jalsevac, Mr. Ivan|  male|29.0|    0|    0|            349240| 7.8958| null|       C|\n",
      "|          4|       0|     1|Millet, Mr. Franc...|  male|65.0|    0|    0|             13509|  26.55|    E|       S|\n",
      "|          5|       1|     1|Kenyon, Mrs. Fred...|female|null|    1|    0|             17464|51.8625|    D|       S|\n",
      "|          6|       1|     2| Toomey, Miss. Ellen|female|50.0|    0|    0|      F.C.C. 13531|   10.5| null|       S|\n",
      "|          7|       0|     3|O'Connor, Mr. Mau...|  male|null|    0|    0|            371060|   7.75| null|       Q|\n",
      "|          8|       1|     1| Anderson, Mr. Harry|  male|48.0|    0|    0|             19952|  26.55|    E|       S|\n",
      "|          9|       0|     3| Morley, Mr. William|  male|34.0|    0|    0|            364506|   8.05| null|       S|\n",
      "|         10|       0|     1|   Gee, Mr. Arthur H|  male|47.0|    0|    0|            111320|   38.5|    E|       S|\n",
      "|         11|       0|     2|Milling, Mr. Jaco...|  male|48.0|    0|    0|            234360|   13.0| null|       S|\n",
      "|         12|       0|     3|  Maisner, Mr. Simon|  male|null|    0|    0|          A/S 2816|   8.05| null|       S|\n",
      "|         13|       0|     3|Goncalves, Mr. Ma...|  male|38.0|    0|    0|SOTON/O.Q. 3101306|   7.05| null|       S|\n",
      "|         14|       0|     2|Campbell, Mr. Wil...|  male|null|    0|    0|            239853|    0.0| null|       S|\n",
      "|         15|       0|     1|Smart, Mr. John M...|  male|56.0|    0|    0|            113792|  26.55| null|       S|\n",
      "|         16|       0|     3|  Scanlan, Mr. James|  male|null|    0|    0|             36209|  7.725| null|       Q|\n",
      "|         17|       1|     3|Baclini, Miss. He...|female|0.75|    2|    1|              2666|19.2583| null|       C|\n",
      "|         18|       0|     3|   Keefe, Mr. Arthur|  male|null|    0|    0|            323592|   7.25| null|       S|\n",
      "|         19|       0|     3|     Cacic, Mr. Luka|  male|38.0|    0|    0|            315089| 8.6625| null|       S|\n",
      "|         20|       1|     2|West, Mrs. Edwy A...|female|33.0|    1|    2|        C.A. 34651|  27.75| null|       S|\n",
      "+-----------+--------+------+--------------------+------+----+-----+-----+------------------+-------+-----+--------+\n",
      "only showing top 20 rows\n",
      "\n"
     ]
    }
   ],
   "source": [
    "total_df.show()"
   ]
  },
  {
   "cell_type": "markdown",
   "metadata": {
    "id": "yzSDsWsUj9Im"
   },
   "source": [
    "**Create the temporary view:**"
   ]
  },
  {
   "cell_type": "code",
   "execution_count": 46,
   "metadata": {
    "id": "MR7CXTY7_tMJ"
   },
   "outputs": [],
   "source": [
    "total_df.createOrReplaceTempView('total')"
   ]
  },
  {
   "cell_type": "markdown",
   "metadata": {
    "id": "Gv7lfQFkrLlN"
   },
   "source": [
    "**Select \"Cabin\" column, count Cabin column, Group by \"Cabin\" column, Order By count DESC**  "
   ]
  },
  {
   "cell_type": "code",
   "execution_count": 47,
   "metadata": {
    "colab": {
     "base_uri": "https://localhost:8080/"
    },
    "id": "A0tZG_mvrKXv",
    "outputId": "2286c22c-3de0-4f59-cc40-684d89568636"
   },
   "outputs": [
    {
     "name": "stdout",
     "output_type": "stream",
     "text": [
      "+-----+-----+\n",
      "|cabin|count|\n",
      "+-----+-----+\n",
      "|    C|   82|\n",
      "|    B|   77|\n",
      "|    D|   52|\n",
      "|    E|   51|\n",
      "|    A|   23|\n",
      "|    F|   18|\n",
      "|    G|    4|\n",
      "|    T|    1|\n",
      "| null|    0|\n",
      "+-----+-----+\n",
      "\n"
     ]
    }
   ],
   "source": [
    "spark.sql(\"\"\" SELECT cabin, count(cabin) AS count\n",
    "FROM total\n",
    "GROUP BY cabin\n",
    "ORDER BY count DESC\n",
    " \"\"\").show()"
   ]
  },
  {
   "cell_type": "markdown",
   "metadata": {
    "id": "1GR6j0LOsB4y"
   },
   "source": [
    "**Fill missing values with \"U\":**"
   ]
  },
  {
   "cell_type": "code",
   "execution_count": 48,
   "metadata": {
    "colab": {
     "base_uri": "https://localhost:8080/"
    },
    "id": "mwq5CHEz_up_",
    "outputId": "8f10b9dd-0c4c-401b-e78c-bff0c39c9877"
   },
   "outputs": [
    {
     "name": "stdout",
     "output_type": "stream",
     "text": [
      "+-----------+--------+------+--------------------+------+----+-----+-----+------------------+-------+-----+--------+\n",
      "|PassengerId|Survived|Pclass|                Name|   Sex| Age|SibSp|Parch|            Ticket|   Fare|cabin|Embarked|\n",
      "+-----------+--------+------+--------------------+------+----+-----+-----+------------------+-------+-----+--------+\n",
      "|          1|       1|     1|Goldenberg, Mr. S...|  male|49.0|    1|    0|             17453|89.1042|    C|       C|\n",
      "|          2|       0|     3| Peduzzi, Mr. Joseph|  male|null|    0|    0|          A/5 2817|   8.05|    U|       S|\n",
      "|          3|       1|     3|  Jalsevac, Mr. Ivan|  male|29.0|    0|    0|            349240| 7.8958|    U|       C|\n",
      "|          4|       0|     1|Millet, Mr. Franc...|  male|65.0|    0|    0|             13509|  26.55|    E|       S|\n",
      "|          5|       1|     1|Kenyon, Mrs. Fred...|female|null|    1|    0|             17464|51.8625|    D|       S|\n",
      "|          6|       1|     2| Toomey, Miss. Ellen|female|50.0|    0|    0|      F.C.C. 13531|   10.5|    U|       S|\n",
      "|          7|       0|     3|O'Connor, Mr. Mau...|  male|null|    0|    0|            371060|   7.75|    U|       Q|\n",
      "|          8|       1|     1| Anderson, Mr. Harry|  male|48.0|    0|    0|             19952|  26.55|    E|       S|\n",
      "|          9|       0|     3| Morley, Mr. William|  male|34.0|    0|    0|            364506|   8.05|    U|       S|\n",
      "|         10|       0|     1|   Gee, Mr. Arthur H|  male|47.0|    0|    0|            111320|   38.5|    E|       S|\n",
      "|         11|       0|     2|Milling, Mr. Jaco...|  male|48.0|    0|    0|            234360|   13.0|    U|       S|\n",
      "|         12|       0|     3|  Maisner, Mr. Simon|  male|null|    0|    0|          A/S 2816|   8.05|    U|       S|\n",
      "|         13|       0|     3|Goncalves, Mr. Ma...|  male|38.0|    0|    0|SOTON/O.Q. 3101306|   7.05|    U|       S|\n",
      "|         14|       0|     2|Campbell, Mr. Wil...|  male|null|    0|    0|            239853|    0.0|    U|       S|\n",
      "|         15|       0|     1|Smart, Mr. John M...|  male|56.0|    0|    0|            113792|  26.55|    U|       S|\n",
      "|         16|       0|     3|  Scanlan, Mr. James|  male|null|    0|    0|             36209|  7.725|    U|       Q|\n",
      "|         17|       1|     3|Baclini, Miss. He...|female|0.75|    2|    1|              2666|19.2583|    U|       C|\n",
      "|         18|       0|     3|   Keefe, Mr. Arthur|  male|null|    0|    0|            323592|   7.25|    U|       S|\n",
      "|         19|       0|     3|     Cacic, Mr. Luka|  male|38.0|    0|    0|            315089| 8.6625|    U|       S|\n",
      "|         20|       1|     2|West, Mrs. Edwy A...|female|33.0|    1|    2|        C.A. 34651|  27.75|    U|       S|\n",
      "+-----------+--------+------+--------------------+------+----+-----+-----+------------------+-------+-----+--------+\n",
      "only showing top 20 rows\n",
      "\n"
     ]
    }
   ],
   "source": [
    "total_df = total_df.fillna(value= 'U', subset= 'cabin')\n",
    "total_df.show()"
   ]
  },
  {
   "cell_type": "markdown",
   "metadata": {
    "id": "RRnhA_5-0Hi4"
   },
   "source": [
    "**StringIndexer: A label indexer that maps a string column of labels to an ML column of label indices. If the input column is numeric, we cast it to string and index the string values. The indices are in [0, numLabels). By default, this is ordered by label frequencies so the most frequent label gets index 0. The ordering behavior is controlled by setting stringOrderType. Its default value is ‘frequencyDesc’.**"
   ]
  },
  {
   "cell_type": "markdown",
   "metadata": {
    "id": "1RIKlOX71GQ-"
   },
   "source": [
    "**StringIndexer(inputCol=None, outputCol=None)**"
   ]
  },
  {
   "cell_type": "markdown",
   "metadata": {
    "id": "c0c_Hf_b0R12"
   },
   "source": [
    "**Pipeline: ML Pipelines provide a uniform set of high-level APIs built on top of DataFrames that help users create and tune practical machine learning pipelines.**"
   ]
  },
  {
   "cell_type": "markdown",
   "metadata": {
    "id": "sWfXaZ0I4dXD"
   },
   "source": [
    "____________________________________________"
   ]
  },
  {
   "cell_type": "markdown",
   "metadata": {
    "id": "RzFCa54R15-g"
   },
   "source": [
    "**Use Pipline to fit and transform:**"
   ]
  },
  {
   "cell_type": "code",
   "execution_count": 49,
   "metadata": {
    "id": "FXhtC8jH_xHE"
   },
   "outputs": [],
   "source": [
    "from pyspark.ml import Pipeline\n",
    "from pyspark.ml.feature import StringIndexer"
   ]
  },
  {
   "cell_type": "code",
   "execution_count": 50,
   "metadata": {
    "id": "Q4T_2pBksRyk"
   },
   "outputs": [],
   "source": [
    "total_df = total_df.dropna()\n"
   ]
  },
  {
   "cell_type": "code",
   "execution_count": 51,
   "metadata": {
    "id": "QwTmwsFahbg8"
   },
   "outputs": [],
   "source": [
    "stage_1 = StringIndexer(inputCol= 'Name', outputCol= 'Name_index')\n",
    "stage_2 = StringIndexer(inputCol= 'Sex', outputCol= 'Sex_index')\n",
    "stage_3 = StringIndexer(inputCol= 'cabin', outputCol= 'cabin_index')\n",
    "stage_4 = StringIndexer(inputCol= 'Embarked', outputCol= 'Embarked_index')\n",
    "\n",
    "pipeline = Pipeline(stages=[stage_1, stage_2, stage_3, stage_4])\n",
    "\n"
   ]
  },
  {
   "cell_type": "code",
   "execution_count": 52,
   "metadata": {
    "id": "J0RDDRXaifMV"
   },
   "outputs": [],
   "source": [
    "pipeline_model = pipeline.fit(total_df)"
   ]
  },
  {
   "cell_type": "code",
   "execution_count": 53,
   "metadata": {
    "id": "t0dqt8LCipT1"
   },
   "outputs": [],
   "source": [
    "total_df_updated = pipeline_model.transform(total_df)\n"
   ]
  },
  {
   "cell_type": "code",
   "execution_count": 54,
   "metadata": {
    "colab": {
     "base_uri": "https://localhost:8080/"
    },
    "id": "MUYxrKPpiwqS",
    "outputId": "a6f01527-7c99-4e60-8725-bd984dacc774"
   },
   "outputs": [
    {
     "name": "stdout",
     "output_type": "stream",
     "text": [
      "+-----------+--------+------+--------------------+------+----+-----+-----+------------------+-------+-----+--------+----------+---------+-----------+--------------+\n",
      "|PassengerId|Survived|Pclass|                Name|   Sex| Age|SibSp|Parch|            Ticket|   Fare|cabin|Embarked|Name_index|Sex_index|cabin_index|Embarked_index|\n",
      "+-----------+--------+------+--------------------+------+----+-----+-----+------------------+-------+-----+--------+----------+---------+-----------+--------------+\n",
      "|          1|       1|     1|Goldenberg, Mr. S...|  male|49.0|    1|    0|             17453|89.1042|    C|       C|     139.0|      0.0|        2.0|           1.0|\n",
      "|          3|       1|     3|  Jalsevac, Mr. Ivan|  male|29.0|    0|    0|            349240| 7.8958|    U|       C|     180.0|      0.0|        0.0|           1.0|\n",
      "|          4|       0|     1|Millet, Mr. Franc...|  male|65.0|    0|    0|             13509|  26.55|    E|       S|     234.0|      0.0|        3.0|           0.0|\n",
      "|          6|       1|     2| Toomey, Miss. Ellen|female|50.0|    0|    0|      F.C.C. 13531|   10.5|    U|       S|     327.0|      1.0|        0.0|           0.0|\n",
      "|          8|       1|     1| Anderson, Mr. Harry|  male|48.0|    0|    0|             19952|  26.55|    E|       S|      26.0|      0.0|        3.0|           0.0|\n",
      "|          9|       0|     3| Morley, Mr. William|  male|34.0|    0|    0|            364506|   8.05|    U|       S|     241.0|      0.0|        0.0|           0.0|\n",
      "|         10|       0|     1|   Gee, Mr. Arthur H|  male|47.0|    0|    0|            111320|   38.5|    E|       S|     134.0|      0.0|        3.0|           0.0|\n",
      "|         11|       0|     2|Milling, Mr. Jaco...|  male|48.0|    0|    0|            234360|   13.0|    U|       S|     235.0|      0.0|        0.0|           0.0|\n",
      "|         13|       0|     3|Goncalves, Mr. Ma...|  male|38.0|    0|    0|SOTON/O.Q. 3101306|   7.05|    U|       S|     141.0|      0.0|        0.0|           0.0|\n",
      "|         15|       0|     1|Smart, Mr. John M...|  male|56.0|    0|    0|            113792|  26.55|    U|       S|     303.0|      0.0|        0.0|           0.0|\n",
      "|         17|       1|     3|Baclini, Miss. He...|female|0.75|    2|    1|              2666|19.2583|    U|       C|      39.0|      1.0|        0.0|           1.0|\n",
      "|         19|       0|     3|     Cacic, Mr. Luka|  male|38.0|    0|    0|            315089| 8.6625|    U|       S|      67.0|      0.0|        0.0|           0.0|\n",
      "|         20|       1|     2|West, Mrs. Edwy A...|female|33.0|    1|    2|        C.A. 34651|  27.75|    U|       S|     340.0|      1.0|        0.0|           0.0|\n",
      "|         21|       1|     2|Jerwan, Mrs. Amin...|female|23.0|    0|    0|   SC/AH Basle 541|13.7917|    D|       C|     185.0|      1.0|        4.0|           1.0|\n",
      "|         22|       0|     3|Strandberg, Miss....|female|22.0|    0|    0|              7553| 9.8375|    U|       S|     311.0|      1.0|        0.0|           0.0|\n",
      "|         24|       0|     2|Renouf, Mr. Peter...|  male|34.0|    1|    0|             31027|   21.0|    U|       S|     270.0|      0.0|        0.0|           0.0|\n",
      "|         25|       0|     3|Braund, Mr. Lewis...|  male|29.0|    1|    0|              3460| 7.0458|    U|       S|      58.0|      0.0|        0.0|           0.0|\n",
      "|         26|       0|     3|Karlsson, Mr. Nil...|  male|22.0|    0|    0|            350060| 7.5208|    U|       S|     195.0|      0.0|        0.0|           0.0|\n",
      "|         27|       1|     3|Hirvonen, Miss. H...|female| 2.0|    0|    1|           3101298|12.2875|    U|       S|     169.0|      1.0|        0.0|           0.0|\n",
      "|         28|       0|     3|Goodwin, Master. ...|  male| 9.0|    5|    2|           CA 2144|   46.9|    U|       S|     142.0|      0.0|        0.0|           0.0|\n",
      "+-----------+--------+------+--------------------+------+----+-----+-----+------------------+-------+-----+--------+----------+---------+-----------+--------------+\n",
      "only showing top 20 rows\n",
      "\n"
     ]
    }
   ],
   "source": [
    "total_df_updated.show()\n"
   ]
  },
  {
   "cell_type": "markdown",
   "metadata": {
    "id": "1FsiLsd9452v"
   },
   "source": [
    "**VectorAssembler: VectorAssembler(*, inputCols=None, outputCol=None) A feature transformer that merges multiple columns into a vector column.**\n",
    "\n"
   ]
  },
  {
   "cell_type": "code",
   "execution_count": 55,
   "metadata": {
    "colab": {
     "base_uri": "https://localhost:8080/"
    },
    "id": "7qCLmfVIo7Uf",
    "outputId": "2847f6a1-eefe-45e4-e1e8-46f4523b10f5"
   },
   "outputs": [
    {
     "name": "stdout",
     "output_type": "stream",
     "text": [
      "+-----------+--------+------+--------------------+------+----+-----+-----+------------------+-------+-----+--------+----------+---------+-----------+--------------+--------------------+\n",
      "|PassengerId|Survived|Pclass|                Name|   Sex| Age|SibSp|Parch|            Ticket|   Fare|cabin|Embarked|Name_index|Sex_index|cabin_index|Embarked_index|            features|\n",
      "+-----------+--------+------+--------------------+------+----+-----+-----+------------------+-------+-----+--------+----------+---------+-----------+--------------+--------------------+\n",
      "|          1|       1|     1|Goldenberg, Mr. S...|  male|49.0|    1|    0|             17453|89.1042|    C|       C|     139.0|      0.0|        2.0|           1.0|[1.0,1.0,0.0,0.0,...|\n",
      "|          3|       1|     3|  Jalsevac, Mr. Ivan|  male|29.0|    0|    0|            349240| 7.8958|    U|       C|     180.0|      0.0|        0.0|           1.0| (6,[0,5],[3.0,1.0])|\n",
      "|          4|       0|     1|Millet, Mr. Franc...|  male|65.0|    0|    0|             13509|  26.55|    E|       S|     234.0|      0.0|        3.0|           0.0| (6,[0,4],[1.0,3.0])|\n",
      "|          6|       1|     2| Toomey, Miss. Ellen|female|50.0|    0|    0|      F.C.C. 13531|   10.5|    U|       S|     327.0|      1.0|        0.0|           0.0| (6,[0,3],[2.0,1.0])|\n",
      "|          8|       1|     1| Anderson, Mr. Harry|  male|48.0|    0|    0|             19952|  26.55|    E|       S|      26.0|      0.0|        3.0|           0.0| (6,[0,4],[1.0,3.0])|\n",
      "|          9|       0|     3| Morley, Mr. William|  male|34.0|    0|    0|            364506|   8.05|    U|       S|     241.0|      0.0|        0.0|           0.0|       (6,[0],[3.0])|\n",
      "|         10|       0|     1|   Gee, Mr. Arthur H|  male|47.0|    0|    0|            111320|   38.5|    E|       S|     134.0|      0.0|        3.0|           0.0| (6,[0,4],[1.0,3.0])|\n",
      "|         11|       0|     2|Milling, Mr. Jaco...|  male|48.0|    0|    0|            234360|   13.0|    U|       S|     235.0|      0.0|        0.0|           0.0|       (6,[0],[2.0])|\n",
      "|         13|       0|     3|Goncalves, Mr. Ma...|  male|38.0|    0|    0|SOTON/O.Q. 3101306|   7.05|    U|       S|     141.0|      0.0|        0.0|           0.0|       (6,[0],[3.0])|\n",
      "|         15|       0|     1|Smart, Mr. John M...|  male|56.0|    0|    0|            113792|  26.55|    U|       S|     303.0|      0.0|        0.0|           0.0|       (6,[0],[1.0])|\n",
      "|         17|       1|     3|Baclini, Miss. He...|female|0.75|    2|    1|              2666|19.2583|    U|       C|      39.0|      1.0|        0.0|           1.0|[3.0,2.0,1.0,1.0,...|\n",
      "|         19|       0|     3|     Cacic, Mr. Luka|  male|38.0|    0|    0|            315089| 8.6625|    U|       S|      67.0|      0.0|        0.0|           0.0|       (6,[0],[3.0])|\n",
      "|         20|       1|     2|West, Mrs. Edwy A...|female|33.0|    1|    2|        C.A. 34651|  27.75|    U|       S|     340.0|      1.0|        0.0|           0.0|[2.0,1.0,2.0,1.0,...|\n",
      "|         21|       1|     2|Jerwan, Mrs. Amin...|female|23.0|    0|    0|   SC/AH Basle 541|13.7917|    D|       C|     185.0|      1.0|        4.0|           1.0|[2.0,0.0,0.0,1.0,...|\n",
      "|         22|       0|     3|Strandberg, Miss....|female|22.0|    0|    0|              7553| 9.8375|    U|       S|     311.0|      1.0|        0.0|           0.0| (6,[0,3],[3.0,1.0])|\n",
      "|         24|       0|     2|Renouf, Mr. Peter...|  male|34.0|    1|    0|             31027|   21.0|    U|       S|     270.0|      0.0|        0.0|           0.0| (6,[0,1],[2.0,1.0])|\n",
      "|         25|       0|     3|Braund, Mr. Lewis...|  male|29.0|    1|    0|              3460| 7.0458|    U|       S|      58.0|      0.0|        0.0|           0.0| (6,[0,1],[3.0,1.0])|\n",
      "|         26|       0|     3|Karlsson, Mr. Nil...|  male|22.0|    0|    0|            350060| 7.5208|    U|       S|     195.0|      0.0|        0.0|           0.0|       (6,[0],[3.0])|\n",
      "|         27|       1|     3|Hirvonen, Miss. H...|female| 2.0|    0|    1|           3101298|12.2875|    U|       S|     169.0|      1.0|        0.0|           0.0|[3.0,0.0,1.0,1.0,...|\n",
      "|         28|       0|     3|Goodwin, Master. ...|  male| 9.0|    5|    2|           CA 2144|   46.9|    U|       S|     142.0|      0.0|        0.0|           0.0|[3.0,5.0,2.0,0.0,...|\n",
      "+-----------+--------+------+--------------------+------+----+-----+-----+------------------+-------+-----+--------+----------+---------+-----------+--------------+--------------------+\n",
      "only showing top 20 rows\n",
      "\n"
     ]
    }
   ],
   "source": [
    "from pyspark.ml.feature import VectorAssembler\n",
    "numericCols = [ 'Pclass', 'SibSp', 'Parch', 'Sex_index', 'cabin_index', 'Embarked_index']\n",
    "assembler = VectorAssembler(inputCols=numericCols, outputCol=\"features\")\n",
    "total_df_updated = assembler.transform(total_df_updated)\n",
    "total_df_updated.show()"
   ]
  },
  {
   "cell_type": "code",
   "execution_count": null,
   "metadata": {
    "id": "XoK2AZljqhgg"
   },
   "outputs": [],
   "source": []
  },
  {
   "cell_type": "markdown",
   "metadata": {
    "id": "dU8DeZfh7JIo"
   },
   "source": [
    "**Use randomSplit function and split data to x_train, and X_test with 80% and 20% Consecutive**"
   ]
  },
  {
   "cell_type": "code",
   "execution_count": 56,
   "metadata": {
    "id": "8C11xf1iAzKp"
   },
   "outputs": [],
   "source": [
    "x_train, X_test = total_df_updated.randomSplit([0.8, 0.2],seed = 42)"
   ]
  },
  {
   "cell_type": "markdown",
   "metadata": {
    "id": "IJQvmFai72O7"
   },
   "source": [
    "**Build RandomForestClassifier model and use pipeline to fit and transform then display \"prediction, Survived, features\" columns**"
   ]
  },
  {
   "cell_type": "code",
   "execution_count": 57,
   "metadata": {
    "colab": {
     "base_uri": "https://localhost:8080/",
     "height": 391
    },
    "id": "MzIDSJzgA035",
    "outputId": "c0f4df39-141e-4853-94b4-3bbf5290f4c6"
   },
   "outputs": [
    {
     "name": "stdout",
     "output_type": "stream",
     "text": [
      "+-----------+------+-----+-----+----------+---------+-----------+--------------+\n",
      "|PassengerId|Pclass|SibSp|Parch|Name_index|Sex_index|cabin_index|Embarked_index|\n",
      "+-----------+------+-----+-----+----------+---------+-----------+--------------+\n",
      "|          4|     1|    0|    0|     234.0|      0.0|        3.0|           0.0|\n",
      "|         10|     1|    0|    0|     134.0|      0.0|        3.0|           0.0|\n",
      "|         13|     3|    0|    0|     141.0|      0.0|        0.0|           0.0|\n",
      "|         21|     2|    0|    0|     185.0|      1.0|        4.0|           1.0|\n",
      "|         28|     3|    5|    2|     142.0|      0.0|        0.0|           0.0|\n",
      "|         34|     1|    1|    0|     175.0|      1.0|        2.0|           0.0|\n",
      "|         41|     1|    0|    0|      34.0|      0.0|        0.0|           1.0|\n",
      "|         49|     3|    0|    0|      70.0|      1.0|        0.0|           2.0|\n",
      "|         62|     3|    0|    0|      86.0|      0.0|        0.0|           0.0|\n",
      "|         63|     1|    0|    0|     337.0|      0.0|        4.0|           0.0|\n",
      "+-----------+------+-----+-----+----------+---------+-----------+--------------+\n",
      "only showing top 10 rows\n",
      "\n"
     ]
    }
   ],
   "source": [
    "from pyspark.ml.classification import RandomForestClassifier\n",
    "\n",
    "rf = RandomForestClassifier(featuresCol = 'features', labelCol = 'Survived')\n",
    "rfModel = rf.fit(x_train)\n",
    "predictions = rfModel.transform(X_test)\n",
    "predictions.select('PassengerId', 'Pclass', 'SibSp', 'Parch', 'Name_index', 'Sex_index', 'cabin_index', 'Embarked_index').show(10)\n"
   ]
  },
  {
   "cell_type": "markdown",
   "metadata": {
    "id": "FSXEI8-r8bKY"
   },
   "source": [
    "**Use MulticlassClassificationEvaluator and set the \"labelCol\" to \"Survived\",  \"predictionCol\" to \"prediction\", \"metricName\" to \"accuracy\"** "
   ]
  },
  {
   "cell_type": "code",
   "execution_count": 62,
   "metadata": {
    "id": "Rl0UAKCaBDO-"
   },
   "outputs": [],
   "source": [
    "from pyspark.ml.evaluation import BinaryClassificationEvaluator, MulticlassClassificationEvaluator\n",
    "\n",
    "# Create both evaluators\n",
    "evaluatorMulti = MulticlassClassificationEvaluator(labelCol=\"Survived\", predictionCol=\"predictions\")\n",
    "evaluator = BinaryClassificationEvaluator(labelCol=\"Survived\", rawPredictionCol=\"predictions\", metricName='accuracy')\n"
   ]
  }
 ],
 "metadata": {
  "colab": {
   "collapsed_sections": [],
   "name": "Practical_work (1).ipynb",
   "provenance": []
  },
  "kernelspec": {
   "display_name": "Python 3",
   "language": "python",
   "name": "python3"
  },
  "language_info": {
   "codemirror_mode": {
    "name": "ipython",
    "version": 3
   },
   "file_extension": ".py",
   "mimetype": "text/x-python",
   "name": "python",
   "nbconvert_exporter": "python",
   "pygments_lexer": "ipython3",
   "version": "3.8.5"
  }
 },
 "nbformat": 4,
 "nbformat_minor": 1
}
